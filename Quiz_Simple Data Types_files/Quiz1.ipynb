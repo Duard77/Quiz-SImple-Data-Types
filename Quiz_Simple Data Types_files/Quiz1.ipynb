{
 "cells": [
  {
   "cell_type": "code",
   "execution_count": 6,
   "id": "c12d0468",
   "metadata": {},
   "outputs": [
    {
     "name": "stdout",
     "output_type": "stream",
     "text": [
      "<class 'int'>\n"
     ]
    }
   ],
   "source": [
    "Medication = 5 #Number of medications prescribed to Jack\n",
    "print(type(Medication)) #Outputs the datatype of Medication"
   ]
  },
  {
   "cell_type": "code",
   "execution_count": 12,
   "id": "acfdabe3",
   "metadata": {},
   "outputs": [
    {
     "name": "stdout",
     "output_type": "stream",
     "text": [
      "24.034609838166958\n"
     ]
    }
   ],
   "source": [
    "Weight = 60   #Susan's weight in kilograms\n",
    "Height = 1.58   #Susan's height in meters\n",
    "HeightSq = Height**2   #Squaring Susan's height   \n",
    "BMI = Weight/HeightSq   #Calculating Susan's BMI, weight divided by the height squared\n",
    "print(BMI)   #Outputs the float of Susan's BMI\n"
   ]
  },
  {
   "cell_type": "code",
   "execution_count": null,
   "id": "4442d0d5",
   "metadata": {},
   "outputs": [],
   "source": []
  },
  {
   "cell_type": "code",
   "execution_count": null,
   "id": "f535f7c8",
   "metadata": {},
   "outputs": [],
   "source": []
  }
 ],
 "metadata": {
  "kernelspec": {
   "display_name": "Python 3 (ipykernel)",
   "language": "python",
   "name": "python3"
  },
  "language_info": {
   "codemirror_mode": {
    "name": "ipython",
    "version": 3
   },
   "file_extension": ".py",
   "mimetype": "text/x-python",
   "name": "python",
   "nbconvert_exporter": "python",
   "pygments_lexer": "ipython3",
   "version": "3.10.6"
  }
 },
 "nbformat": 4,
 "nbformat_minor": 5
}
